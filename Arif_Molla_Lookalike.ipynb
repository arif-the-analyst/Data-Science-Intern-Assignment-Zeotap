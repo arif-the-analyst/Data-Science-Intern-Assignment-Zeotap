{
 "cells": [
  {
   "cell_type": "code",
   "execution_count": 14,
   "id": "97ac75d6-4869-4cd5-b987-921448ccbe02",
   "metadata": {},
   "outputs": [],
   "source": [
    "import pandas as pd\n",
    "from sklearn.preprocessing import StandardScaler\n",
    "from sklearn.metrics.pairwise import cosine_similarity\n"
   ]
  },
  {
   "cell_type": "code",
   "execution_count": 16,
   "id": "1ca22eb0-4d82-4995-9fd2-54cbfa998fc1",
   "metadata": {},
   "outputs": [],
   "source": [
    "# Load datasets\n",
    "customers = pd.read_csv('Customers.csv')\n",
    "products = pd.read_csv('Products.csv')\n",
    "transactions = pd.read_csv('Transactions.csv')\n"
   ]
  },
  {
   "cell_type": "code",
   "execution_count": 18,
   "id": "7c59fd95-1ff6-4a45-82fc-0c17b5010017",
   "metadata": {},
   "outputs": [],
   "source": [
    "# Merge datasets\n",
    "merged_data = transactions.merge(customers, on='CustomerID').merge(products, on='ProductID')\n"
   ]
  },
  {
   "cell_type": "code",
   "execution_count": 20,
   "id": "ffbf10cb-2f34-4601-8ef6-d2f8e395c084",
   "metadata": {},
   "outputs": [],
   "source": [
    "# Feature Engineering\n",
    "customer_features = merged_data.groupby('CustomerID').agg(\n",
    "    total_spent=('TotalValue', 'sum'),\n",
    "    total_transactions=('TransactionID', 'count'),\n",
    "    avg_transaction_value=('TotalValue', 'mean'),\n",
    "    most_common_region=('Region', lambda x: x.mode()[0]),\n",
    "    preferred_category=('Category', lambda x: x.mode()[0])\n",
    ").reset_index()"
   ]
  },
  {
   "cell_type": "code",
   "execution_count": 22,
   "id": "b5fc4815-943b-43b0-9d29-127a7502bff8",
   "metadata": {},
   "outputs": [],
   "source": [
    "# Convert categorical columns into one-hot encoding\n",
    "customer_features = pd.get_dummies(customer_features, columns=['most_common_region', 'preferred_category'])"
   ]
  },
  {
   "cell_type": "code",
   "execution_count": 24,
   "id": "f0c7b2f1-b008-4fd0-be48-e4b8e08541d2",
   "metadata": {},
   "outputs": [],
   "source": [
    "# Normalize numerical features\n",
    "scaler = StandardScaler()\n",
    "numerical_columns = ['total_spent', 'total_transactions', 'avg_transaction_value']\n",
    "customer_features[numerical_columns] = scaler.fit_transform(customer_features[numerical_columns])"
   ]
  },
  {
   "cell_type": "code",
   "execution_count": 26,
   "id": "fa34e57e-3d7c-4f62-837f-7fee081d3830",
   "metadata": {},
   "outputs": [],
   "source": [
    "# Calculate Similarity Scores\n",
    "similarity_matrix = cosine_similarity(customer_features.drop(columns=['CustomerID']))\n",
    "similarity_df = pd.DataFrame(similarity_matrix, index=customer_features['CustomerID'], columns=customer_features['CustomerID'])\n"
   ]
  },
  {
   "cell_type": "code",
   "execution_count": 28,
   "id": "5db2b1c4-1910-48b7-af38-a139e72bf165",
   "metadata": {},
   "outputs": [],
   "source": [
    "# Recommend Top 3 Lookalikes for Each Customer (C0001 - C0020)\n",
    "lookalike_results = {}\n",
    "\n",
    "for customer_id in customer_features['CustomerID'][:20]:  # First 20 customers\n",
    "    similar_customers = similarity_df[customer_id].sort_values(ascending=False).iloc[1:4]  # Top 3 similar (excluding self)\n",
    "    lookalike_results[customer_id] = [(other_id, score) for other_id, score in similar_customers.items()]\n"
   ]
  },
  {
   "cell_type": "code",
   "execution_count": 30,
   "id": "9460c73b-9abc-463d-b3d9-7d86c0fc87ee",
   "metadata": {},
   "outputs": [],
   "source": [
    "# Convert results to a DataFrame\n",
    "lookalike_df = pd.DataFrame({\n",
    "    'CustomerID': lookalike_results.keys(),\n",
    "    'Top3_Lookalikes': [str(values) for values in lookalike_results.values()]\n",
    "})"
   ]
  },
  {
   "cell_type": "code",
   "execution_count": 32,
   "id": "c8725513-04ed-491e-94fe-eee49bff29df",
   "metadata": {},
   "outputs": [
    {
     "name": "stdout",
     "output_type": "stream",
     "text": [
      "   CustomerID                                    Top3_Lookalikes\n",
      "0       C0001  [('C0190', 0.9682154512951261), ('C0048', 0.94...\n",
      "1       C0002  [('C0088', 0.9663574397998078), ('C0134', 0.94...\n",
      "2       C0003  [('C0052', 0.9847977904024423), ('C0152', 0.92...\n",
      "3       C0004  [('C0165', 0.9711437718179058), ('C0155', 0.96...\n",
      "4       C0005  [('C0186', 0.9787905419345103), ('C0146', 0.95...\n",
      "5       C0006  [('C0168', 0.9732537429499296), ('C0171', 0.95...\n",
      "6       C0007  [('C0140', 0.9764156563035169), ('C0115', 0.93...\n",
      "7       C0008  [('C0109', 0.8700104206236068), ('C0139', 0.81...\n",
      "8       C0009  [('C0010', 0.9760669630706748), ('C0198', 0.95...\n",
      "9       C0010  [('C0009', 0.9760669630706748), ('C0111', 0.97...\n",
      "10      C0011  [('C0137', 0.9611944701177747), ('C0169', 0.92...\n",
      "11      C0012  [('C0104', 0.9659896786844349), ('C0113', 0.92...\n",
      "12      C0013  [('C0099', 0.9855644363688848), ('C0108', 0.91...\n",
      "13      C0014  [('C0060', 0.9763044912298495), ('C0151', 0.90...\n",
      "14      C0015  [('C0036', 0.980365127065939), ('C0131', 0.974...\n",
      "15      C0016  [('C0183', 0.9998750016492791), ('C0067', 0.91...\n",
      "16      C0017  [('C0075', 0.9694478848397573), ('C0081', 0.85...\n",
      "17      C0018  [('C0117', 0.9473518653085908), ('C0185', 0.83...\n",
      "18      C0019  [('C0121', 0.902523629526074), ('C0081', 0.831...\n",
      "19      C0020  [('C0050', 0.8471955082476953), ('C0140', 0.83...\n"
     ]
    }
   ],
   "source": [
    "# Save to CSV\n",
    "lookalike_df.to_csv('Lookalike.csv', index=False)\n",
    "\n",
    "# Print results\n",
    "print(lookalike_df)"
   ]
  },
  {
   "cell_type": "code",
   "execution_count": 34,
   "id": "0ddd31c7-c483-4c5c-bdfa-738c97699029",
   "metadata": {},
   "outputs": [
    {
     "data": {
      "text/html": [
       "<a href='Lookalike.csv' target='_blank'>Lookalike.csv</a><br>"
      ],
      "text/plain": [
       "/home/45451e42-4545-4efb-b786-f3e355082fdb/Lookalike.csv"
      ]
     },
     "execution_count": 34,
     "metadata": {},
     "output_type": "execute_result"
    }
   ],
   "source": [
    "from IPython.display import FileLink\n",
    "\n",
    "# Create a link to download the CSV file\n",
    "FileLink(r'Lookalike.csv')"
   ]
  },
  {
   "cell_type": "code",
   "execution_count": null,
   "id": "1887f960-7dc3-41c2-b74c-6a7bef2cd817",
   "metadata": {},
   "outputs": [],
   "source": []
  }
 ],
 "metadata": {
  "kernelspec": {
   "display_name": "anaconda-ai-2024.04-py310",
   "language": "python",
   "name": "conda-env-anaconda-ai-2024.04-py310-py"
  },
  "language_info": {
   "codemirror_mode": {
    "name": "ipython",
    "version": 3
   },
   "file_extension": ".py",
   "mimetype": "text/x-python",
   "name": "python",
   "nbconvert_exporter": "python",
   "pygments_lexer": "ipython3",
   "version": "3.10.13"
  }
 },
 "nbformat": 4,
 "nbformat_minor": 5
}
